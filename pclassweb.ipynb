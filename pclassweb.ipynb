{
  "nbformat": 4,
  "nbformat_minor": 0,
  "metadata": {
    "colab": {
      "provenance": []
    },
    "kernelspec": {
      "name": "python3",
      "display_name": "Python 3"
    },
    "language_info": {
      "name": "python"
    }
  },
  "cells": [
    {
      "cell_type": "code",
      "execution_count": null,
      "metadata": {
        "id": "9Gy9CCZ5xVoc"
      },
      "outputs": [],
      "source": [
        "from fastai.vision.all import *\n",
        "from fastai.vision.widgets import *"
      ]
    },
    {
      "cell_type": "code",
      "source": [
        "#Important: this version contains differences when compared to \"Penguin Classifier - Inference\". \n",
        "#I'm not sure why, but it seems that the other version generates errors when trying to run on binder\n",
        "#(this one is the inverse, it generates errors when trying to run in normal colab, but works just fine on binder). \n",
        "#My guess is that binder might have some compatibility issues with some specific function in the other colab, \n",
        "#or maybe it might be a problem generated in some recent update."
      ],
      "metadata": {
        "id": "uVhTiRwlVuUI"
      },
      "execution_count": null,
      "outputs": []
    },
    {
      "cell_type": "code",
      "source": [
        "#In general, this notebook has the same purpose as \"Penguin Classifier - Inference\",\n",
        "#but with some different functions in order to make it function properly on binder.\n",
        "#So, we will load the pkl, create the widgets and define a function which will be called when the button is pressed."
      ],
      "metadata": {
        "id": "x-Q4UZuHV6uN"
      },
      "execution_count": null,
      "outputs": []
    },
    {
      "cell_type": "code",
      "source": [
        "path = Path()\n",
        "learn_inf = load_learner(path/'export.pkl', cpu=True)\n",
        "btn_upload = widgets.FileUpload()\n",
        "out_pl = widgets.Output()\n",
        "lbl_pred = widgets.Label()"
      ],
      "metadata": {
        "id": "pFKvz10UxW8R"
      },
      "execution_count": null,
      "outputs": []
    },
    {
      "cell_type": "code",
      "source": [
        "def on_data_change(change):\n",
        "    lbl_pred.value = ''\n",
        "    image_bytes = btn_upload.value[0][\"content\"]\n",
        "    img = Image.open(io.BytesIO(image_bytes))\n",
        "    out_pl.clear_output()\n",
        "    with out_pl: display(img.to_thumb(128,128))\n",
        "    pred,pred_idx,probs = learn_inf.predict(img)\n",
        "    lbl_pred.value = f'Prediction: {pred}; Probability: {probs[pred_idx]:.04f}'"
      ],
      "metadata": {
        "id": "28_l10fWxYp5"
      },
      "execution_count": null,
      "outputs": []
    },
    {
      "cell_type": "code",
      "source": [
        "btn_upload.observe(on_data_change, names=['data'])\n",
        "out_pl = widgets.Output()\n",
        "display(VBox([widgets.Label('Upload an Image.'), btn_upload, out_pl, lbl_pred]))"
      ],
      "metadata": {
        "id": "47832BF1xanu"
      },
      "execution_count": null,
      "outputs": []
    },
    {
      "cell_type": "code",
      "source": [
        "# This time, we will also create a classify button, which will trigger the model to do the classification."
      ],
      "metadata": {
        "id": "3WxttpmfWIh3"
      },
      "execution_count": null,
      "outputs": []
    },
    {
      "cell_type": "code",
      "source": [
        "btn_run = widgets.Button(description='Classify')\n",
        "btn_run"
      ],
      "metadata": {
        "id": "wYFQ0Q_6xeCL"
      },
      "execution_count": null,
      "outputs": []
    },
    {
      "cell_type": "code",
      "source": [
        "btn_run.on_click(on_data_change)"
      ],
      "metadata": {
        "id": "IqpuwLGFxgcH"
      },
      "execution_count": null,
      "outputs": []
    }
  ]
}