{
  "nbformat": 4,
  "nbformat_minor": 0,
  "metadata": {
    "colab": {
      "provenance": []
    },
    "kernelspec": {
      "name": "python3",
      "display_name": "Python 3"
    },
    "language_info": {
      "name": "python"
    },
    "widgets": {
      "application/vnd.jupyter.widget-state+json": {
        "5e72dae3f5f643a6a338d635bcf495e3": {
          "model_module": "@jupyter-widgets/controls",
          "model_name": "VBoxModel",
          "model_module_version": "1.5.0",
          "state": {
            "_dom_classes": [],
            "_model_module": "@jupyter-widgets/controls",
            "_model_module_version": "1.5.0",
            "_model_name": "VBoxModel",
            "_view_count": null,
            "_view_module": "@jupyter-widgets/controls",
            "_view_module_version": "1.5.0",
            "_view_name": "VBoxView",
            "box_style": "",
            "children": [
              "IPY_MODEL_159129c98c4440b7919045b1ddf0feab",
              "IPY_MODEL_fc9dd958b1c44eb797c6b14cad8dd4dd",
              "IPY_MODEL_cdbfabbf4b82496a8811b1e9d69ea7c8",
              "IPY_MODEL_ed9318190c184a4aa35bc20e72e7dee1"
            ],
            "layout": "IPY_MODEL_51c33d37e9b5402c834c606b9a84a4cf"
          }
        },
        "159129c98c4440b7919045b1ddf0feab": {
          "model_module": "@jupyter-widgets/controls",
          "model_name": "LabelModel",
          "model_module_version": "1.5.0",
          "state": {
            "_dom_classes": [],
            "_model_module": "@jupyter-widgets/controls",
            "_model_module_version": "1.5.0",
            "_model_name": "LabelModel",
            "_view_count": null,
            "_view_module": "@jupyter-widgets/controls",
            "_view_module_version": "1.5.0",
            "_view_name": "LabelView",
            "description": "",
            "description_tooltip": null,
            "layout": "IPY_MODEL_31c2d633486b4f83a83b82dfd485dd93",
            "placeholder": "​",
            "style": "IPY_MODEL_1c8df8a7ab8e4e5bad8f4b11976582cf",
            "value": "Select your penguin!"
          }
        },
        "fc9dd958b1c44eb797c6b14cad8dd4dd": {
          "model_module": "@jupyter-widgets/controls",
          "model_name": "FileUploadModel",
          "model_module_version": "1.5.0",
          "state": {
            "_counter": 1,
            "_dom_classes": [],
            "_model_module": "@jupyter-widgets/controls",
            "_model_module_version": "1.5.0",
            "_model_name": "FileUploadModel",
            "_view_count": null,
            "_view_module": "@jupyter-widgets/controls",
            "_view_module_version": "1.5.0",
            "_view_name": "FileUploadView",
            "accept": "",
            "button_style": "",
            "data": [
              null
            ],
            "description": "Upload",
            "description_tooltip": null,
            "disabled": false,
            "error": "",
            "icon": "upload",
            "layout": "IPY_MODEL_58ad9706bb9841caba11b432bc642fad",
            "metadata": [
              {
                "name": "chinstrap.514x600.jpg",
                "type": "image/jpeg",
                "size": 29804,
                "lastModified": 1673391368000
              }
            ],
            "multiple": false,
            "style": "IPY_MODEL_a9a5dec981e645a1966a0f70cb9d3ff5"
          }
        },
        "cdbfabbf4b82496a8811b1e9d69ea7c8": {
          "model_module": "@jupyter-widgets/output",
          "model_name": "OutputModel",
          "model_module_version": "1.0.0",
          "state": {
            "_dom_classes": [],
            "_model_module": "@jupyter-widgets/output",
            "_model_module_version": "1.0.0",
            "_model_name": "OutputModel",
            "_view_count": null,
            "_view_module": "@jupyter-widgets/output",
            "_view_module_version": "1.0.0",
            "_view_name": "OutputView",
            "layout": "IPY_MODEL_ebca65ebb2cd4c4a9eee3e3d1b34e7e2",
            "msg_id": "",
            "outputs": [
              {
                "output_type": "display_data",
                "data": {
                  "text/plain": "<PIL.Image.Image image mode=RGB size=110x128>",
                  "image/png": "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\n"
                },
                "metadata": {}
              }
            ]
          }
        },
        "ed9318190c184a4aa35bc20e72e7dee1": {
          "model_module": "@jupyter-widgets/controls",
          "model_name": "LabelModel",
          "model_module_version": "1.5.0",
          "state": {
            "_dom_classes": [],
            "_model_module": "@jupyter-widgets/controls",
            "_model_module_version": "1.5.0",
            "_model_name": "LabelModel",
            "_view_count": null,
            "_view_module": "@jupyter-widgets/controls",
            "_view_module_version": "1.5.0",
            "_view_name": "LabelView",
            "description": "",
            "description_tooltip": null,
            "layout": "IPY_MODEL_263d652f79db4bc88a2047cb0e39dcb3",
            "placeholder": "​",
            "style": "IPY_MODEL_a028ba2cd76f4db4b643e22e23b29219",
            "value": "Prediction: chinstrap; Probability: 0.9998"
          }
        },
        "51c33d37e9b5402c834c606b9a84a4cf": {
          "model_module": "@jupyter-widgets/base",
          "model_name": "LayoutModel",
          "model_module_version": "1.2.0",
          "state": {
            "_model_module": "@jupyter-widgets/base",
            "_model_module_version": "1.2.0",
            "_model_name": "LayoutModel",
            "_view_count": null,
            "_view_module": "@jupyter-widgets/base",
            "_view_module_version": "1.2.0",
            "_view_name": "LayoutView",
            "align_content": null,
            "align_items": null,
            "align_self": null,
            "border": null,
            "bottom": null,
            "display": null,
            "flex": null,
            "flex_flow": null,
            "grid_area": null,
            "grid_auto_columns": null,
            "grid_auto_flow": null,
            "grid_auto_rows": null,
            "grid_column": null,
            "grid_gap": null,
            "grid_row": null,
            "grid_template_areas": null,
            "grid_template_columns": null,
            "grid_template_rows": null,
            "height": null,
            "justify_content": null,
            "justify_items": null,
            "left": null,
            "margin": null,
            "max_height": null,
            "max_width": null,
            "min_height": null,
            "min_width": null,
            "object_fit": null,
            "object_position": null,
            "order": null,
            "overflow": null,
            "overflow_x": null,
            "overflow_y": null,
            "padding": null,
            "right": null,
            "top": null,
            "visibility": null,
            "width": null
          }
        },
        "31c2d633486b4f83a83b82dfd485dd93": {
          "model_module": "@jupyter-widgets/base",
          "model_name": "LayoutModel",
          "model_module_version": "1.2.0",
          "state": {
            "_model_module": "@jupyter-widgets/base",
            "_model_module_version": "1.2.0",
            "_model_name": "LayoutModel",
            "_view_count": null,
            "_view_module": "@jupyter-widgets/base",
            "_view_module_version": "1.2.0",
            "_view_name": "LayoutView",
            "align_content": null,
            "align_items": null,
            "align_self": null,
            "border": null,
            "bottom": null,
            "display": null,
            "flex": null,
            "flex_flow": null,
            "grid_area": null,
            "grid_auto_columns": null,
            "grid_auto_flow": null,
            "grid_auto_rows": null,
            "grid_column": null,
            "grid_gap": null,
            "grid_row": null,
            "grid_template_areas": null,
            "grid_template_columns": null,
            "grid_template_rows": null,
            "height": null,
            "justify_content": null,
            "justify_items": null,
            "left": null,
            "margin": null,
            "max_height": null,
            "max_width": null,
            "min_height": null,
            "min_width": null,
            "object_fit": null,
            "object_position": null,
            "order": null,
            "overflow": null,
            "overflow_x": null,
            "overflow_y": null,
            "padding": null,
            "right": null,
            "top": null,
            "visibility": null,
            "width": null
          }
        },
        "1c8df8a7ab8e4e5bad8f4b11976582cf": {
          "model_module": "@jupyter-widgets/controls",
          "model_name": "DescriptionStyleModel",
          "model_module_version": "1.5.0",
          "state": {
            "_model_module": "@jupyter-widgets/controls",
            "_model_module_version": "1.5.0",
            "_model_name": "DescriptionStyleModel",
            "_view_count": null,
            "_view_module": "@jupyter-widgets/base",
            "_view_module_version": "1.2.0",
            "_view_name": "StyleView",
            "description_width": ""
          }
        },
        "58ad9706bb9841caba11b432bc642fad": {
          "model_module": "@jupyter-widgets/base",
          "model_name": "LayoutModel",
          "model_module_version": "1.2.0",
          "state": {
            "_model_module": "@jupyter-widgets/base",
            "_model_module_version": "1.2.0",
            "_model_name": "LayoutModel",
            "_view_count": null,
            "_view_module": "@jupyter-widgets/base",
            "_view_module_version": "1.2.0",
            "_view_name": "LayoutView",
            "align_content": null,
            "align_items": null,
            "align_self": null,
            "border": null,
            "bottom": null,
            "display": null,
            "flex": null,
            "flex_flow": null,
            "grid_area": null,
            "grid_auto_columns": null,
            "grid_auto_flow": null,
            "grid_auto_rows": null,
            "grid_column": null,
            "grid_gap": null,
            "grid_row": null,
            "grid_template_areas": null,
            "grid_template_columns": null,
            "grid_template_rows": null,
            "height": null,
            "justify_content": null,
            "justify_items": null,
            "left": null,
            "margin": null,
            "max_height": null,
            "max_width": null,
            "min_height": null,
            "min_width": null,
            "object_fit": null,
            "object_position": null,
            "order": null,
            "overflow": null,
            "overflow_x": null,
            "overflow_y": null,
            "padding": null,
            "right": null,
            "top": null,
            "visibility": null,
            "width": null
          }
        },
        "a9a5dec981e645a1966a0f70cb9d3ff5": {
          "model_module": "@jupyter-widgets/controls",
          "model_name": "ButtonStyleModel",
          "model_module_version": "1.5.0",
          "state": {
            "_model_module": "@jupyter-widgets/controls",
            "_model_module_version": "1.5.0",
            "_model_name": "ButtonStyleModel",
            "_view_count": null,
            "_view_module": "@jupyter-widgets/base",
            "_view_module_version": "1.2.0",
            "_view_name": "StyleView",
            "button_color": null,
            "font_weight": ""
          }
        },
        "263d652f79db4bc88a2047cb0e39dcb3": {
          "model_module": "@jupyter-widgets/base",
          "model_name": "LayoutModel",
          "model_module_version": "1.2.0",
          "state": {
            "_model_module": "@jupyter-widgets/base",
            "_model_module_version": "1.2.0",
            "_model_name": "LayoutModel",
            "_view_count": null,
            "_view_module": "@jupyter-widgets/base",
            "_view_module_version": "1.2.0",
            "_view_name": "LayoutView",
            "align_content": null,
            "align_items": null,
            "align_self": null,
            "border": null,
            "bottom": null,
            "display": null,
            "flex": null,
            "flex_flow": null,
            "grid_area": null,
            "grid_auto_columns": null,
            "grid_auto_flow": null,
            "grid_auto_rows": null,
            "grid_column": null,
            "grid_gap": null,
            "grid_row": null,
            "grid_template_areas": null,
            "grid_template_columns": null,
            "grid_template_rows": null,
            "height": null,
            "justify_content": null,
            "justify_items": null,
            "left": null,
            "margin": null,
            "max_height": null,
            "max_width": null,
            "min_height": null,
            "min_width": null,
            "object_fit": null,
            "object_position": null,
            "order": null,
            "overflow": null,
            "overflow_x": null,
            "overflow_y": null,
            "padding": null,
            "right": null,
            "top": null,
            "visibility": null,
            "width": null
          }
        },
        "a028ba2cd76f4db4b643e22e23b29219": {
          "model_module": "@jupyter-widgets/controls",
          "model_name": "DescriptionStyleModel",
          "model_module_version": "1.5.0",
          "state": {
            "_model_module": "@jupyter-widgets/controls",
            "_model_module_version": "1.5.0",
            "_model_name": "DescriptionStyleModel",
            "_view_count": null,
            "_view_module": "@jupyter-widgets/base",
            "_view_module_version": "1.2.0",
            "_view_name": "StyleView",
            "description_width": ""
          }
        },
        "ebca65ebb2cd4c4a9eee3e3d1b34e7e2": {
          "model_module": "@jupyter-widgets/base",
          "model_name": "LayoutModel",
          "model_module_version": "1.2.0",
          "state": {
            "_model_module": "@jupyter-widgets/base",
            "_model_module_version": "1.2.0",
            "_model_name": "LayoutModel",
            "_view_count": null,
            "_view_module": "@jupyter-widgets/base",
            "_view_module_version": "1.2.0",
            "_view_name": "LayoutView",
            "align_content": null,
            "align_items": null,
            "align_self": null,
            "border": null,
            "bottom": null,
            "display": null,
            "flex": null,
            "flex_flow": null,
            "grid_area": null,
            "grid_auto_columns": null,
            "grid_auto_flow": null,
            "grid_auto_rows": null,
            "grid_column": null,
            "grid_gap": null,
            "grid_row": null,
            "grid_template_areas": null,
            "grid_template_columns": null,
            "grid_template_rows": null,
            "height": null,
            "justify_content": null,
            "justify_items": null,
            "left": null,
            "margin": null,
            "max_height": null,
            "max_width": null,
            "min_height": null,
            "min_width": null,
            "object_fit": null,
            "object_position": null,
            "order": null,
            "overflow": null,
            "overflow_x": null,
            "overflow_y": null,
            "padding": null,
            "right": null,
            "top": null,
            "visibility": null,
            "width": null
          }
        }
      }
    }
  },
  "cells": [
    {
      "cell_type": "code",
      "execution_count": 1,
      "metadata": {
        "colab": {
          "base_uri": "https://localhost:8080/"
        },
        "id": "aCu89XU952ln",
        "outputId": "7ed99f26-52ac-424e-93a6-bd5cb10036f2"
      },
      "outputs": [
        {
          "output_type": "stream",
          "name": "stdout",
          "text": [
            "Looking in indexes: https://pypi.org/simple, https://us-python.pkg.dev/colab-wheels/public/simple/\n",
            "Collecting voila\n",
            "  Downloading voila-0.4.0-py3-none-any.whl (5.5 MB)\n",
            "\u001b[2K     \u001b[90m━━━━━━━━━━━━━━━━━━━━━━━━━━━━━━━━━━━━━━━━\u001b[0m \u001b[32m5.5/5.5 MB\u001b[0m \u001b[31m27.1 MB/s\u001b[0m eta \u001b[36m0:00:00\u001b[0m\n",
            "\u001b[?25hRequirement already satisfied: nbconvert<8,>=6.4.5 in /usr/local/lib/python3.9/dist-packages (from voila) (6.5.4)\n",
            "Collecting jupyterlab-server<3,>=2.3.0\n",
            "  Downloading jupyterlab_server-2.22.1-py3-none-any.whl (57 kB)\n",
            "\u001b[2K     \u001b[90m━━━━━━━━━━━━━━━━━━━━━━━━━━━━━━━━━━━━━━━━\u001b[0m \u001b[32m57.0/57.0 kB\u001b[0m \u001b[31m2.9 MB/s\u001b[0m eta \u001b[36m0:00:00\u001b[0m\n",
            "\u001b[?25hRequirement already satisfied: jupyter-core>=4.11.0 in /usr/local/lib/python3.9/dist-packages (from voila) (5.3.0)\n",
            "Requirement already satisfied: traitlets<6,>=5.0.3 in /usr/local/lib/python3.9/dist-packages (from voila) (5.7.1)\n",
            "Collecting websockets>=9.0\n",
            "  Downloading websockets-11.0.2-cp39-cp39-manylinux_2_5_x86_64.manylinux1_x86_64.manylinux_2_17_x86_64.manylinux2014_x86_64.whl (129 kB)\n",
            "\u001b[2K     \u001b[90m━━━━━━━━━━━━━━━━━━━━━━━━━━━━━━━━━━━━━━━\u001b[0m \u001b[32m129.7/129.7 kB\u001b[0m \u001b[31m5.0 MB/s\u001b[0m eta \u001b[36m0:00:00\u001b[0m\n",
            "\u001b[?25hRequirement already satisfied: nbclient<0.8,>=0.4.0 in /usr/local/lib/python3.9/dist-packages (from voila) (0.7.3)\n",
            "Requirement already satisfied: jupyter-server<2.0.0,>=1.18 in /usr/local/lib/python3.9/dist-packages (from voila) (1.24.0)\n",
            "Requirement already satisfied: jupyter-client<=7.4.1,>=6.1.3 in /usr/local/lib/python3.9/dist-packages (from voila) (6.1.12)\n",
            "Requirement already satisfied: tornado>=4.1 in /usr/local/lib/python3.9/dist-packages (from jupyter-client<=7.4.1,>=6.1.3->voila) (6.2)\n",
            "Requirement already satisfied: python-dateutil>=2.1 in /usr/local/lib/python3.9/dist-packages (from jupyter-client<=7.4.1,>=6.1.3->voila) (2.8.2)\n",
            "Requirement already satisfied: pyzmq>=13 in /usr/local/lib/python3.9/dist-packages (from jupyter-client<=7.4.1,>=6.1.3->voila) (23.2.1)\n",
            "Requirement already satisfied: platformdirs>=2.5 in /usr/local/lib/python3.9/dist-packages (from jupyter-core>=4.11.0->voila) (3.2.0)\n",
            "Requirement already satisfied: Send2Trash in /usr/local/lib/python3.9/dist-packages (from jupyter-server<2.0.0,>=1.18->voila) (1.8.0)\n",
            "Requirement already satisfied: terminado>=0.8.3 in /usr/local/lib/python3.9/dist-packages (from jupyter-server<2.0.0,>=1.18->voila) (0.17.1)\n",
            "Requirement already satisfied: websocket-client in /usr/local/lib/python3.9/dist-packages (from jupyter-server<2.0.0,>=1.18->voila) (1.5.1)\n",
            "Requirement already satisfied: jinja2 in /usr/local/lib/python3.9/dist-packages (from jupyter-server<2.0.0,>=1.18->voila) (3.1.2)\n",
            "Requirement already satisfied: nbformat>=5.2.0 in /usr/local/lib/python3.9/dist-packages (from jupyter-server<2.0.0,>=1.18->voila) (5.8.0)\n",
            "Requirement already satisfied: anyio<4,>=3.1.0 in /usr/local/lib/python3.9/dist-packages (from jupyter-server<2.0.0,>=1.18->voila) (3.6.2)\n",
            "Requirement already satisfied: packaging in /usr/local/lib/python3.9/dist-packages (from jupyter-server<2.0.0,>=1.18->voila) (23.1)\n",
            "Requirement already satisfied: prometheus-client in /usr/local/lib/python3.9/dist-packages (from jupyter-server<2.0.0,>=1.18->voila) (0.16.0)\n",
            "Requirement already satisfied: argon2-cffi in /usr/local/lib/python3.9/dist-packages (from jupyter-server<2.0.0,>=1.18->voila) (21.3.0)\n",
            "Requirement already satisfied: babel>=2.10 in /usr/local/lib/python3.9/dist-packages (from jupyterlab-server<3,>=2.3.0->voila) (2.12.1)\n",
            "Collecting requests>=2.28\n",
            "  Downloading requests-2.28.2-py3-none-any.whl (62 kB)\n",
            "\u001b[2K     \u001b[90m━━━━━━━━━━━━━━━━━━━━━━━━━━━━━━━━━━━━━━━\u001b[0m \u001b[32m62.8/62.8 kB\u001b[0m \u001b[31m988.6 kB/s\u001b[0m eta \u001b[36m0:00:00\u001b[0m\n",
            "\u001b[?25hCollecting json5>=0.9.0\n",
            "  Downloading json5-0.9.11-py2.py3-none-any.whl (19 kB)\n",
            "Collecting jsonschema>=4.17.3\n",
            "  Downloading jsonschema-4.17.3-py3-none-any.whl (90 kB)\n",
            "\u001b[2K     \u001b[90m━━━━━━━━━━━━━━━━━━━━━━━━━━━━━━━━━━━━━━━━\u001b[0m \u001b[32m90.4/90.4 kB\u001b[0m \u001b[31m3.2 MB/s\u001b[0m eta \u001b[36m0:00:00\u001b[0m\n",
            "\u001b[?25hRequirement already satisfied: importlib-metadata>=4.8.3 in /usr/local/lib/python3.9/dist-packages (from jupyterlab-server<3,>=2.3.0->voila) (6.4.1)\n",
            "Requirement already satisfied: tinycss2 in /usr/local/lib/python3.9/dist-packages (from nbconvert<8,>=6.4.5->voila) (1.2.1)\n",
            "Requirement already satisfied: beautifulsoup4 in /usr/local/lib/python3.9/dist-packages (from nbconvert<8,>=6.4.5->voila) (4.11.2)\n",
            "Requirement already satisfied: bleach in /usr/local/lib/python3.9/dist-packages (from nbconvert<8,>=6.4.5->voila) (6.0.0)\n",
            "Requirement already satisfied: jupyterlab-pygments in /usr/local/lib/python3.9/dist-packages (from nbconvert<8,>=6.4.5->voila) (0.2.2)\n",
            "Requirement already satisfied: entrypoints>=0.2.2 in /usr/local/lib/python3.9/dist-packages (from nbconvert<8,>=6.4.5->voila) (0.4)\n",
            "Requirement already satisfied: defusedxml in /usr/local/lib/python3.9/dist-packages (from nbconvert<8,>=6.4.5->voila) (0.7.1)\n",
            "Requirement already satisfied: pandocfilters>=1.4.1 in /usr/local/lib/python3.9/dist-packages (from nbconvert<8,>=6.4.5->voila) (1.5.0)\n",
            "Requirement already satisfied: lxml in /usr/local/lib/python3.9/dist-packages (from nbconvert<8,>=6.4.5->voila) (4.9.2)\n",
            "Requirement already satisfied: MarkupSafe>=2.0 in /usr/local/lib/python3.9/dist-packages (from nbconvert<8,>=6.4.5->voila) (2.1.2)\n",
            "Requirement already satisfied: mistune<2,>=0.8.1 in /usr/local/lib/python3.9/dist-packages (from nbconvert<8,>=6.4.5->voila) (0.8.4)\n",
            "Requirement already satisfied: pygments>=2.4.1 in /usr/local/lib/python3.9/dist-packages (from nbconvert<8,>=6.4.5->voila) (2.14.0)\n",
            "Requirement already satisfied: sniffio>=1.1 in /usr/local/lib/python3.9/dist-packages (from anyio<4,>=3.1.0->jupyter-server<2.0.0,>=1.18->voila) (1.3.0)\n",
            "Requirement already satisfied: idna>=2.8 in /usr/local/lib/python3.9/dist-packages (from anyio<4,>=3.1.0->jupyter-server<2.0.0,>=1.18->voila) (3.4)\n",
            "Requirement already satisfied: zipp>=0.5 in /usr/local/lib/python3.9/dist-packages (from importlib-metadata>=4.8.3->jupyterlab-server<3,>=2.3.0->voila) (3.15.0)\n",
            "Requirement already satisfied: attrs>=17.4.0 in /usr/local/lib/python3.9/dist-packages (from jsonschema>=4.17.3->jupyterlab-server<3,>=2.3.0->voila) (23.1.0)\n",
            "Requirement already satisfied: pyrsistent!=0.17.0,!=0.17.1,!=0.17.2,>=0.14.0 in /usr/local/lib/python3.9/dist-packages (from jsonschema>=4.17.3->jupyterlab-server<3,>=2.3.0->voila) (0.19.3)\n",
            "Requirement already satisfied: fastjsonschema in /usr/local/lib/python3.9/dist-packages (from nbformat>=5.2.0->jupyter-server<2.0.0,>=1.18->voila) (2.16.3)\n",
            "Requirement already satisfied: six>=1.5 in /usr/local/lib/python3.9/dist-packages (from python-dateutil>=2.1->jupyter-client<=7.4.1,>=6.1.3->voila) (1.16.0)\n",
            "Requirement already satisfied: urllib3<1.27,>=1.21.1 in /usr/local/lib/python3.9/dist-packages (from requests>=2.28->jupyterlab-server<3,>=2.3.0->voila) (1.26.15)\n",
            "Requirement already satisfied: charset-normalizer<4,>=2 in /usr/local/lib/python3.9/dist-packages (from requests>=2.28->jupyterlab-server<3,>=2.3.0->voila) (2.0.12)\n",
            "Requirement already satisfied: certifi>=2017.4.17 in /usr/local/lib/python3.9/dist-packages (from requests>=2.28->jupyterlab-server<3,>=2.3.0->voila) (2022.12.7)\n",
            "Requirement already satisfied: ptyprocess in /usr/local/lib/python3.9/dist-packages (from terminado>=0.8.3->jupyter-server<2.0.0,>=1.18->voila) (0.7.0)\n",
            "Requirement already satisfied: argon2-cffi-bindings in /usr/local/lib/python3.9/dist-packages (from argon2-cffi->jupyter-server<2.0.0,>=1.18->voila) (21.2.0)\n",
            "Requirement already satisfied: soupsieve>1.2 in /usr/local/lib/python3.9/dist-packages (from beautifulsoup4->nbconvert<8,>=6.4.5->voila) (2.4.1)\n",
            "Requirement already satisfied: webencodings in /usr/local/lib/python3.9/dist-packages (from bleach->nbconvert<8,>=6.4.5->voila) (0.5.1)\n",
            "Requirement already satisfied: cffi>=1.0.1 in /usr/local/lib/python3.9/dist-packages (from argon2-cffi-bindings->argon2-cffi->jupyter-server<2.0.0,>=1.18->voila) (1.15.1)\n",
            "Requirement already satisfied: pycparser in /usr/local/lib/python3.9/dist-packages (from cffi>=1.0.1->argon2-cffi-bindings->argon2-cffi->jupyter-server<2.0.0,>=1.18->voila) (2.21)\n",
            "Installing collected packages: json5, websockets, requests, jsonschema, jupyterlab-server, voila\n",
            "  Attempting uninstall: requests\n",
            "    Found existing installation: requests 2.27.1\n",
            "    Uninstalling requests-2.27.1:\n",
            "      Successfully uninstalled requests-2.27.1\n",
            "  Attempting uninstall: jsonschema\n",
            "    Found existing installation: jsonschema 4.3.3\n",
            "    Uninstalling jsonschema-4.3.3:\n",
            "      Successfully uninstalled jsonschema-4.3.3\n",
            "Successfully installed json5-0.9.11 jsonschema-4.17.3 jupyterlab-server-2.22.1 requests-2.28.2 voila-0.4.0 websockets-11.0.2\n",
            "Enabling: voila\n",
            "- Writing config: /usr/etc/jupyter\n",
            "    - Validating...\n",
            "      voila 0.4.0 \u001b[32mOK\u001b[0m\n"
          ]
        }
      ],
      "source": [
        "!pip install voila\n",
        "!jupyter serverextension enable voila --sys-prefix\n",
        "from fastai.vision.all import *\n",
        "from fastai.vision.widgets import *"
      ]
    },
    {
      "cell_type": "code",
      "source": [
        "path = Path()\n",
        "learn_inf = load_learner(path/'export.pkl', cpu=True)\n",
        "btn_upload = widgets.FileUpload()\n",
        "out_pl = widgets.Output()\n",
        "lbl_pred = widgets.Label()"
      ],
      "metadata": {
        "id": "f3mg93rH59cF"
      },
      "execution_count": 5,
      "outputs": []
    },
    {
      "cell_type": "code",
      "source": [
        "def on_data_change(change):\n",
        "    lbl_pred.value = ''\n",
        "    img = PILImage.create(btn_upload.data[-1])\n",
        "    out_pl.clear_output()\n",
        "    with out_pl: display(img.to_thumb(128,128))\n",
        "    pred,pred_idx,probs = learn_inf.predict(img)\n",
        "    lbl_pred.value = f'Prediction: {pred}; Probability: {probs[pred_idx]:.04f}'"
      ],
      "metadata": {
        "id": "NNo7Y3uI9H5b"
      },
      "execution_count": 6,
      "outputs": []
    },
    {
      "cell_type": "code",
      "source": [
        "btn_upload.observe(on_data_change, names=['data'])"
      ],
      "metadata": {
        "id": "u71jFORf9K6Y"
      },
      "execution_count": 7,
      "outputs": []
    },
    {
      "cell_type": "code",
      "source": [
        "display(VBox([widgets.Label('Select your penguin!'), btn_upload, out_pl, lbl_pred]))"
      ],
      "metadata": {
        "colab": {
          "base_uri": "https://localhost:8080/",
          "height": 241,
          "referenced_widgets": [
            "5e72dae3f5f643a6a338d635bcf495e3",
            "159129c98c4440b7919045b1ddf0feab",
            "fc9dd958b1c44eb797c6b14cad8dd4dd",
            "cdbfabbf4b82496a8811b1e9d69ea7c8",
            "ed9318190c184a4aa35bc20e72e7dee1",
            "51c33d37e9b5402c834c606b9a84a4cf",
            "31c2d633486b4f83a83b82dfd485dd93",
            "1c8df8a7ab8e4e5bad8f4b11976582cf",
            "58ad9706bb9841caba11b432bc642fad",
            "a9a5dec981e645a1966a0f70cb9d3ff5",
            "263d652f79db4bc88a2047cb0e39dcb3",
            "a028ba2cd76f4db4b643e22e23b29219",
            "ebca65ebb2cd4c4a9eee3e3d1b34e7e2"
          ]
        },
        "id": "aEsA1bFD9O2y",
        "outputId": "c621527e-b321-4261-87f4-bb292cf51738"
      },
      "execution_count": 9,
      "outputs": [
        {
          "output_type": "display_data",
          "data": {
            "text/plain": [
              "VBox(children=(Label(value='Select your penguin!'), FileUpload(value={}, description='Upload'), Output(), Labe…"
            ],
            "application/vnd.jupyter.widget-view+json": {
              "version_major": 2,
              "version_minor": 0,
              "model_id": "5e72dae3f5f643a6a338d635bcf495e3"
            }
          },
          "metadata": {}
        },
        {
          "output_type": "display_data",
          "data": {
            "text/plain": [
              "<IPython.core.display.HTML object>"
            ],
            "text/html": [
              "\n",
              "<style>\n",
              "    /* Turns off some styling */\n",
              "    progress {\n",
              "        /* gets rid of default border in Firefox and Opera. */\n",
              "        border: none;\n",
              "        /* Needs to be in here for Safari polyfill so background images work as expected. */\n",
              "        background-size: auto;\n",
              "    }\n",
              "    progress:not([value]), progress:not([value])::-webkit-progress-bar {\n",
              "        background: repeating-linear-gradient(45deg, #7e7e7e, #7e7e7e 10px, #5c5c5c 10px, #5c5c5c 20px);\n",
              "    }\n",
              "    .progress-bar-interrupted, .progress-bar-interrupted::-webkit-progress-bar {\n",
              "        background: #F44336;\n",
              "    }\n",
              "</style>\n"
            ]
          },
          "metadata": {}
        },
        {
          "output_type": "display_data",
          "data": {
            "text/plain": [
              "<IPython.core.display.HTML object>"
            ],
            "text/html": []
          },
          "metadata": {}
        }
      ]
    }
  ]
}